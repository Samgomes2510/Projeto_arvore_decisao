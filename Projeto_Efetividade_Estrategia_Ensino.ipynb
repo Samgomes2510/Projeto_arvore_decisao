{
  "nbformat": 4,
  "nbformat_minor": 0,
  "metadata": {
    "colab": {
      "provenance": [],
      "authorship_tag": "ABX9TyNn7XXZSm4KFXuFDXTClGz8",
      "include_colab_link": true
    },
    "kernelspec": {
      "name": "python3",
      "display_name": "Python 3"
    },
    "language_info": {
      "name": "python"
    }
  },
  "cells": [
    {
      "cell_type": "markdown",
      "metadata": {
        "id": "view-in-github",
        "colab_type": "text"
      },
      "source": [
        "<a href=\"https://colab.research.google.com/github/Samgomes2510/Projeto_arvore_decisao/blob/main/Projeto_Efetividade_Estrategia_Ensino.ipynb\" target=\"_parent\"><img src=\"https://colab.research.google.com/assets/colab-badge.svg\" alt=\"Open In Colab\"/></a>"
      ]
    },
    {
      "cell_type": "markdown",
      "source": [
        "# **MÓDULO 19**\n",
        "# Exercício: Estatística Aplicada"
      ],
      "metadata": {
        "id": "VQakdEAC-B3V"
      }
    },
    {
      "cell_type": "markdown",
      "source": [
        "**Efetividade de Duas Estratégias de Ensino**\n",
        "\n",
        "Imagine que uma escola esteja avaliando a eficácia de duas estratégias de ensino de matemática para alunos do ensino médio. Eles querem determinar se há uma diferença significativa no desempenho médio dos alunos entre as duas estratégias.\n"
      ],
      "metadata": {
        "id": "T5plIUrz-GHb"
      }
    },
    {
      "cell_type": "markdown",
      "source": [
        "* Hipótese nula (H0): A média das notas dos alunos na estratégia A é igual à média das notas dos alunos na estratégia B.\n",
        "* Hipótese alternativa (H1): A média das notas na Estratégia B é maior do que a média das notas na Estratégia A.\n"
      ],
      "metadata": {
        "id": "GQnLyVhM_xtp"
      }
    },
    {
      "cell_type": "markdown",
      "source": [
        "* Amostra da Estratégia A: Notas de 50 alunos que receberam a Estratégia A.\n",
        "* Amostra da Estratégia B: Notas de 50 alunos que receberam a Estratégia B.\n"
      ],
      "metadata": {
        "id": "QZvs5d7N_24u"
      }
    },
    {
      "cell_type": "markdown",
      "source": [
        "Usaremos um teste Z para comparar as médias das notas entre as duas amostras.\n"
      ],
      "metadata": {
        "id": "au_fMwQN_9gA"
      }
    },
    {
      "cell_type": "markdown",
      "source": [
        "Se o p-valor do teste Z for menor que um nível de significância pré-determinado (por exemplo, α = 0.05), rejeitamos a hipótese nula e concluímos que há uma diferença significativa nas médias das notas entre as duas estratégias de ensino.\n"
      ],
      "metadata": {
        "id": "VUgQzhr6AAd1"
      }
    },
    {
      "cell_type": "code",
      "source": [
        "import numpy as np\n",
        "import matplotlib.pyplot as plt\n",
        "from scipy import stats\n",
        "from scipy.stats import norm\n"
      ],
      "metadata": {
        "id": "epMuoX18AOhi"
      },
      "execution_count": 1,
      "outputs": []
    },
    {
      "cell_type": "markdown",
      "source": [
        "Os dados são criados a seguir:\n"
      ],
      "metadata": {
        "id": "AGNRyewLAKoa"
      }
    },
    {
      "cell_type": "code",
      "execution_count": 2,
      "metadata": {
        "colab": {
          "base_uri": "https://localhost:8080/"
        },
        "id": "vq3T8TyA5HHb",
        "outputId": "7ee17485-81a9-4118-9923-c447911707d9"
      },
      "outputs": [
        {
          "output_type": "stream",
          "name": "stdout",
          "text": [
            "Notas da Estratégia A: [87.64052346 74.00157208 79.78737984 92.40893199 88.6755799 ]\n",
            "Notas da Estratégia B: [64.25440127 79.64282997 68.87033835 60.83241379 74.66181326]\n"
          ]
        }
      ],
      "source": [
        "# Definindo médias e desvios padrão para as notas nas duas estratégias\n",
        "media_estrategia_A = 70\n",
        "desvio_padrao_estrategia_A = 10\n",
        "\n",
        "media_estrategia_B = 75\n",
        "desvio_padrao_estrategia_B = 12\n",
        "\n",
        "# Gerando as amostras de notas para cada estratégia de ensino da nossa base\n",
        "np.random.seed(0)  # Para garantir a reprodutibilidade dos resultados\n",
        "amostra_estrategia_A = np.random.normal(loc=media_estrategia_A, scale=desvio_padrao_estrategia_A, size=50)\n",
        "amostra_estrategia_B = np.random.normal(loc=media_estrategia_B, scale=desvio_padrao_estrategia_B, size=50)\n",
        "\n",
        "print(\"Notas da Estratégia A:\", amostra_estrategia_A[:5])\n",
        "print(\"Notas da Estratégia B:\", amostra_estrategia_B[:5])\n"
      ]
    },
    {
      "cell_type": "markdown",
      "source": [
        "# 1) De acordo com as informações analisadas o nosso teste é unilateral á direita, esquerda ou bicaudal? Justifique.\n"
      ],
      "metadata": {
        "id": "_mzig60QAeCY"
      }
    },
    {
      "cell_type": "markdown",
      "source": [
        "Com base no cenário apresentado, o nosso teste é unilateral à direita. Vamos entender o motivo:\n",
        "\n",
        "📌 Contexto:\n",
        "\n",
        "Estamos comparando duas estratégias de ensino (A e B).\n",
        "\n",
        "A média da Estratégia B (75) é maior que a média da Estratégia A (70).\n",
        "\n",
        "Queremos saber se a Estratégia B é significativamente melhor (tem notas maiores) do que a Estratégia A.\n",
        "\n",
        "✅ Justificativa:\n",
        "\n",
        "Quando o objetivo do teste é verificar se uma média é maior do que a outra, usamos um teste unilateral à direita, porque estamos interessados apenas na cauda superior da distribuição (ou seja, queremos ver se B é significativamente maior que A).\n",
        "Se estivéssemos testando se B é diferente de A, para mais ou para menos, usaríamos um teste bicaudal.\n",
        "\n",
        "🧠 Conclusão:\n",
        "\n",
        "O teste é unilateral à direita, pois queremos saber se a Estratégia B proporciona notas significativamente maiores do que a Estratégia A."
      ],
      "metadata": {
        "id": "0BtIsNKXAhHj"
      }
    },
    {
      "cell_type": "markdown",
      "source": [
        "# 2) Calcule as médias para as duas amostragens e as variâncias. Quais insights você pode retirar comparando os dados?\n"
      ],
      "metadata": {
        "id": "qaxb-ENxGMOq"
      }
    },
    {
      "cell_type": "code",
      "source": [
        "# Cálculo das médias\n",
        "media_A = np.mean(amostra_estrategia_A)\n",
        "media_B = np.mean(amostra_estrategia_B)\n",
        "\n",
        "# Cálculo das variâncias\n",
        "variancia_A = np.var(amostra_estrategia_A, ddof=1)  # ddof=1 para amostra\n",
        "variancia_B = np.var(amostra_estrategia_B, ddof=1)\n",
        "\n",
        "# Exibindo os resultados\n",
        "print(f\"Média Estratégia A: {media_A:.2f}\")\n",
        "print(f\"Média Estratégia B: {media_B:.2f}\")\n",
        "print(f\"Variância Estratégia A: {variancia_A:.2f}\")\n",
        "print(f\"Variância Estratégia B: {variancia_B:.2f}\")"
      ],
      "metadata": {
        "colab": {
          "base_uri": "https://localhost:8080/"
        },
        "id": "zYnD-g2XAbTK",
        "outputId": "b029201d-1c4a-45e4-fac9-5d57928ac71f"
      },
      "execution_count": 3,
      "outputs": [
        {
          "output_type": "stream",
          "name": "stdout",
          "text": [
            "Média Estratégia A: 71.41\n",
            "Média Estratégia B: 74.75\n",
            "Variância Estratégia A: 129.27\n",
            "Variância Estratégia B: 110.47\n"
          ]
        }
      ]
    },
    {
      "cell_type": "markdown",
      "source": [
        "# 3) Imprima os resultados da estatística do teste Z, p value e indique se rejeitaremos ou não a hipótese nula. Justifique sua resposta.\n"
      ],
      "metadata": {
        "id": "hvQAZCeZHBDc"
      }
    },
    {
      "cell_type": "code",
      "source": [
        "# Reutilizando as amostras\n",
        "# Calculando as médias\n",
        "media_A = np.mean(amostra_estrategia_A)\n",
        "media_B = np.mean(amostra_estrategia_B)\n",
        "\n",
        "# Tamanhos das amostras\n",
        "n_A = len(amostra_estrategia_A)\n",
        "n_B = len(amostra_estrategia_B)\n",
        "\n",
        "# Desvios padrão populacionais definidos no enunciado\n",
        "desvio_A = desvio_padrao_estrategia_A\n",
        "desvio_B = desvio_padrao_estrategia_B\n",
        "\n",
        "# Calculando o erro padrão da diferença das médias\n",
        "erro_padrao = np.sqrt((desvio_A**2 / n_A) + (desvio_B**2 / n_B))\n",
        "\n",
        "# Calculando a estatística do teste Z\n",
        "z_score = (media_B - media_A) / erro_padrao\n",
        "\n",
        "# Calculando o p-valor para teste unilateral (à direita, pois queremos saber se B > A)\n",
        "p_value = 1 - norm.cdf(z_score)\n",
        "\n",
        "# Resultados\n",
        "print(f\"Estatística Z: {z_score:.2f}\")\n",
        "print(f\"P-valor: {p_value:.4f}\")"
      ],
      "metadata": {
        "colab": {
          "base_uri": "https://localhost:8080/"
        },
        "id": "Q2Qfg-YTIYCV",
        "outputId": "9c1da6f1-5535-4921-ec79-bf45506ba4f7"
      },
      "execution_count": 4,
      "outputs": [
        {
          "output_type": "stream",
          "name": "stdout",
          "text": [
            "Estatística Z: 1.51\n",
            "P-valor: 0.0651\n"
          ]
        }
      ]
    },
    {
      "cell_type": "markdown",
      "source": [
        "✅ Resumo dos Resultados Calculados\n",
        "\n",
        "MétricaValorEstatística Z1.51P-valor0.0651Nível de Significância (α)0.05 (assumido, padrão)\n",
        "\n",
        "🎯 Objetivo do Teste\n",
        "\n",
        "O teste é unilateral à direita:\n",
        "\n",
        "Hipótese nula (H₀): μ_B ≤ μ_A\n",
        "\n",
        "Hipótese alternativa (H₁): μ_B > μ_A\n",
        "\n",
        "📌 Interpretação dos Resultados\n",
        "\n",
        "A estatística Z = 1.51 significa que a média da Estratégia B está 1,51 desvios padrão acima da média da Estratégia A.\n",
        "\n",
        "O p-valor = 0.0651 indica a probabilidade de obter esse resultado (ou mais extremo) se a hipótese nula fosse verdadeira.\n",
        "\n",
        "❌ Decisão\n",
        "\n",
        "Como p = 0.0651 > 0.05 (nível de significância), não rejeitamos a hipótese nula.\n",
        "\n",
        "Isso significa que não há evidência estatística suficiente para afirmar que a Estratégia B é superior à Estratégia A com 95% de confiança.\n",
        "\n",
        "📊 Insights Importantes\n",
        "\n",
        "✅ A média da Estratégia B foi de fato maior, mas essa diferença não é estatisticamente significativa ao nível de 5%.\n",
        "\n",
        "❗ O p-valor é próximo do limite de significância (0.0651 vs. 0.05), então em contextos mais tolerantes (como α = 0.10), poderíamos rejeitar H₀.\n",
        "\n",
        "⚠️ Tamanho da amostra (n = 50) pode ter influenciado: amostras maiores aumentam o poder do teste e podem revelar diferenças significativas que passaram despercebidas aqui.\n",
        "\n",
        "📉 A dispersão nas notas da Estratégia B (desvio padrão maior) também pode ter contribuído para uma menor significância estatística.\n",
        "\n",
        "✅ Conclusão Técnica\n",
        "\n",
        "Como p > 0.05, não rejeitamos H₀.\n",
        "Não há evidência estatisticamente significativa de que a Estratégia B seja superior à Estratégia A, embora os dados indiquem uma tendência positiva.\n"
      ],
      "metadata": {
        "id": "mmA80Mw3I-VD"
      }
    },
    {
      "cell_type": "markdown",
      "source": [
        "# 4) Para finalizar monte o gráfico da distribuição da estatística do nosso teste Z e explique o que pode ser observado através dele.\n"
      ],
      "metadata": {
        "id": "YhoLGJNKJJNY"
      }
    },
    {
      "cell_type": "code",
      "source": [
        "# Configurações padrão do gráfico\n",
        "fig, ax = plt.subplots(figsize=(10, 5))\n",
        "\n",
        "# Parâmetros da densidade sob H0 (para distribuição Normal Padrão)\n",
        "mu = 0\n",
        "sigma = 1\n",
        "\n",
        "# Valores de X e Y para plotar a densidade do nosso gráfico\n",
        "x = np.linspace(mu - 3*sigma, mu + 3*sigma, 100)\n",
        "y = stats.norm.pdf(x, mu, sigma) # Usando norm.pdf para distribuição normal\n",
        "\n",
        "# Calculando o limite da região crítica para um teste unilateral à direita com alpha = 0.05\n",
        "low = stats.norm.ppf(0.95, mu, sigma)\n",
        "high = np.inf\n",
        "\n",
        "# Gráfico da densidade\n",
        "ax.plot(x, y, label='Densidade de Probabilidade (H0)')\n",
        "\n",
        "# Marcação do valor observado da estatística do teste Z\n",
        "# Usando z_score que foi calculado anteriormente\n",
        "ax.vlines(x=[z_score], ymin=0, ymax=stats.norm.pdf(z_score, mu, sigma), colors='r', linestyles='dotted', label=f'Valor observado Z ({z_score:.2f})')\n",
        "\n",
        "# Preenchendo a área crítica\n",
        "# Preenche a área à direita do limite crítico\n",
        "x_fill = np.linspace(low, mu + 3*sigma, 100)\n",
        "y_fill = stats.norm.pdf(x_fill, mu, sigma)\n",
        "plt.fill_between(x_fill, y_fill, color='orange', alpha=.5, label='Área crítica (α=0.05)')\n",
        "\n",
        "\n",
        "#Plotagem padrão do gráfico\n",
        "plt.legend()\n",
        "plt.xlabel('Estatística Z')\n",
        "plt.ylabel('Densidade de Probabilidade')\n",
        "plt.title('Distribuição do Teste Z - Comparação de Estratégias')\n",
        "plt.show()"
      ],
      "metadata": {
        "colab": {
          "base_uri": "https://localhost:8080/",
          "height": 488
        },
        "id": "T8-01Kx2JNqj",
        "outputId": "6f1e0a77-80f9-464f-89d2-e0046d51497a"
      },
      "execution_count": 7,
      "outputs": [
        {
          "output_type": "display_data",
          "data": {
            "text/plain": [
              "<Figure size 1000x500 with 1 Axes>"
            ],
            "image/png": "[encoded data removed]"
          },
          "metadata": {}
        }
      ]
    },
    {
      "cell_type": "markdown",
      "source": [
        "📊 Explicação do Gráfico do Teste Z\n",
        "\n",
        "O gráfico representa a distribuição normal padrão (média 0, desvio padrão 1) assumida pela hipótese nula (H₀), onde não há diferença significativa entre as médias das duas estratégias.\n",
        "\n",
        "🟠 Área crítica (região de rejeição da H₀):\n",
        "\n",
        "Está à direita do ponto crítico z = 1.645, correspondente ao nível de significância α = 0.05 (teste unilateral).\n",
        "\n",
        "Qualquer valor de Z nesta região (laranja) levaria à rejeição da hipótese nula.\n",
        "\n",
        "🔴 Linha tracejada (valor observado Z = 1.51):\n",
        "\n",
        "Representa o resultado obtido do nosso teste.\n",
        "\n",
        "Como Z = 1.51 está à esquerda do ponto crítico (1.645), não cai na região crítica.\n",
        "\n",
        "Portanto, não há evidência estatística suficiente para afirmar que a Estratégia B é superior à A com 95% de confiança.\n",
        "\n",
        "📌 O que pode ser observado com o gráfico?\n",
        "\n",
        "Visualização clara do resultado: o gráfico mostra que o valor observado (Z = 1.51) não ultrapassa a barreira da região crítica.\n",
        "\n",
        "A proximidade do limite crítico sugere que a Estratégia B pode ter um desempenho superior, mas a evidência não é forte o suficiente no contexto atual.\n",
        "\n",
        "Se o valor de Z tivesse sido, por exemplo, 1.65 ou maior, a linha estaria dentro da área crítica, e então poderíamos rejeitar H₀ com segurança.\n",
        "\n",
        "Esse gráfico reforça o conceito de limite estatístico para tomada de decisão com base em níveis de confiança.\n",
        "\n",
        "✅ Conclusão final (com apoio do gráfico):\n",
        "\n",
        "Embora a Estratégia B tenha mostrado uma média mais alta nas notas, o valor de Z observado (1.51) não alcança a região crítica (Z > 1.645). Portanto, com base na estatística do teste Z e no gráfico, não rejeitamos a hipótese nula ao nível de 5% de significância.\n"
      ],
      "metadata": {
        "id": "HlewCZViOhYS"
      }
    }
  ]
}