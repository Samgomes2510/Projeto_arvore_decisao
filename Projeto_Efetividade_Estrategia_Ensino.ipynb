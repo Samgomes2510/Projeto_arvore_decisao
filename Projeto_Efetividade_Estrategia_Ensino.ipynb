{
  "nbformat": 4,
  "nbformat_minor": 0,
  "metadata": {
    "colab": {
      "provenance": [],
      "authorship_tag": "ABX9TyM/1LzhJ8fP8kpjul5FeysR",
      "include_colab_link": true
    },
    "kernelspec": {
      "name": "python3",
      "display_name": "Python 3"
    },
    "language_info": {
      "name": "python"
    }
  },
  "cells": [
    {
      "cell_type": "markdown",
      "metadata": {
        "id": "view-in-github",
        "colab_type": "text"
      },
      "source": [
        "<a href=\"https://colab.research.google.com/github/Samgomes2510/Projeto_arvore_decisao/blob/main/Projeto_Efetividade_Estrategia_Ensino.ipynb\" target=\"_parent\"><img src=\"https://colab.research.google.com/assets/colab-badge.svg\" alt=\"Open In Colab\"/></a>"
      ]
    },
    {
      "cell_type": "markdown",
      "source": [
        "# **MÓDULO 19**\n",
        "# Exercício: Estatística Aplicada"
      ],
      "metadata": {
        "id": "VQakdEAC-B3V"
      }
    },
    {
      "cell_type": "markdown",
      "source": [
        "**Efetividade de Duas Estratégias de Ensino**\n",
        "\n",
        "Imagine que uma escola esteja avaliando a eficácia de duas estratégias de ensino de matemática para alunos do ensino médio. Eles querem determinar se há uma diferença significativa no desempenho médio dos alunos entre as duas estratégias.\n"
      ],
      "metadata": {
        "id": "T5plIUrz-GHb"
      }
    },
    {
      "cell_type": "markdown",
      "source": [
        "* Hipótese nula (H0): A média das notas dos alunos na estratégia A é igual à média das notas dos alunos na estratégia B.\n",
        "* Hipótese alternativa (H1): A média das notas na Estratégia B é maior do que a média das notas na Estratégia A.\n"
      ],
      "metadata": {
        "id": "GQnLyVhM_xtp"
      }
    },
    {
      "cell_type": "markdown",
      "source": [
        "* Amostra da Estratégia A: Notas de 50 alunos que receberam a Estratégia A.\n",
        "* Amostra da Estratégia B: Notas de 50 alunos que receberam a Estratégia B.\n"
      ],
      "metadata": {
        "id": "QZvs5d7N_24u"
      }
    },
    {
      "cell_type": "markdown",
      "source": [
        "Usaremos um teste Z para comparar as médias das notas entre as duas amostras.\n"
      ],
      "metadata": {
        "id": "au_fMwQN_9gA"
      }
    },
    {
      "cell_type": "markdown",
      "source": [
        "Se o p-valor do teste Z for menor que um nível de significância pré-determinado (por exemplo, α = 0.05), rejeitamos a hipótese nula e concluímos que há uma diferença significativa nas médias das notas entre as duas estratégias de ensino.\n"
      ],
      "metadata": {
        "id": "VUgQzhr6AAd1"
      }
    },
    {
      "cell_type": "code",
      "source": [
        "import numpy as np\n",
        "import matplotlib.pyplot as plt\n",
        "from scipy import stats\n",
        "from scipy.stats import norm\n"
      ],
      "metadata": {
        "id": "epMuoX18AOhi"
      },
      "execution_count": 7,
      "outputs": []
    },
    {
      "cell_type": "markdown",
      "source": [
        "Os dados são criados a seguir:\n"
      ],
      "metadata": {
        "id": "AGNRyewLAKoa"
      }
    },
    {
      "cell_type": "code",
      "execution_count": 8,
      "metadata": {
        "colab": {
          "base_uri": "https://localhost:8080/"
        },
        "id": "vq3T8TyA5HHb",
        "outputId": "280113de-dd83-4b0f-f803-3f068c5ba1e8"
      },
      "outputs": [
        {
          "output_type": "stream",
          "name": "stdout",
          "text": [
            "Notas da Estratégia A: [87.64052346 74.00157208 79.78737984 92.40893199 88.6755799 ]\n",
            "Notas da Estratégia B: [64.25440127 79.64282997 68.87033835 60.83241379 74.66181326]\n"
          ]
        }
      ],
      "source": [
        "# Definindo médias e desvios padrão para as notas nas duas estratégias\n",
        "media_estrategia_A = 70\n",
        "desvio_padrao_estrategia_A = 10\n",
        "\n",
        "media_estrategia_B = 75\n",
        "desvio_padrao_estrategia_B = 12\n",
        "\n",
        "# Gerando as amostras de notas para cada estratégia de ensino da nossa base\n",
        "np.random.seed(0)  # Para garantir a reprodutibilidade dos resultados\n",
        "amostra_estrategia_A = np.random.normal(loc=media_estrategia_A, scale=desvio_padrao_estrategia_A, size=50)\n",
        "amostra_estrategia_B = np.random.normal(loc=media_estrategia_B, scale=desvio_padrao_estrategia_B, size=50)\n",
        "\n",
        "print(\"Notas da Estratégia A:\", amostra_estrategia_A[:5])\n",
        "print(\"Notas da Estratégia B:\", amostra_estrategia_B[:5])\n"
      ]
    },
    {
      "cell_type": "markdown",
      "source": [
        "# 1) De acordo com as informações analisadas o nosso teste é unilateral á direita, esquerda ou bicaudal? Justifique.\n"
      ],
      "metadata": {
        "id": "_mzig60QAeCY"
      }
    },
    {
      "cell_type": "markdown",
      "source": [
        "Com base no cenário apresentado, o nosso teste é unilateral à direita. Vamos entender o motivo:\n",
        "\n",
        "📌 Contexto:\n",
        "\n",
        "Estamos comparando duas estratégias de ensino (A e B).\n",
        "\n",
        "A média da Estratégia B (75) é maior que a média da Estratégia A (70).\n",
        "\n",
        "Queremos saber se a Estratégia B é significativamente melhor (tem notas maiores) do que a Estratégia A.\n",
        "\n",
        "✅ Justificativa:\n",
        "\n",
        "Quando o objetivo do teste é verificar se uma média é maior do que a outra, usamos um teste unilateral à direita, porque estamos interessados apenas na cauda superior da distribuição (ou seja, queremos ver se B é significativamente maior que A).\n",
        "Se estivéssemos testando se B é diferente de A, para mais ou para menos, usaríamos um teste bicaudal.\n",
        "\n",
        "🧠 Conclusão:\n",
        "\n",
        "O teste é unilateral à direita, pois queremos saber se a Estratégia B proporciona notas significativamente maiores do que a Estratégia A."
      ],
      "metadata": {
        "id": "0BtIsNKXAhHj"
      }
    },
    {
      "cell_type": "markdown",
      "source": [
        "# 2) Calcule as médias para as duas amostragens e as variâncias. Quais insights você pode retirar comparando os dados?\n"
      ],
      "metadata": {
        "id": "qaxb-ENxGMOq"
      }
    },
    {
      "cell_type": "code",
      "source": [
        "# Cálculo das médias\n",
        "media_A = np.mean(amostra_estrategia_A)\n",
        "media_B = np.mean(amostra_estrategia_B)\n",
        "\n",
        "# Cálculo das variâncias\n",
        "variancia_A = np.var(amostra_estrategia_A, ddof=1)  # ddof=1 para amostra\n",
        "variancia_B = np.var(amostra_estrategia_B, ddof=1)\n",
        "\n",
        "# Exibindo os resultados\n",
        "print(f\"Média Estratégia A: {media_A:.2f}\")\n",
        "print(f\"Média Estratégia B: {media_B:.2f}\")\n",
        "print(f\"Variância Estratégia A: {variancia_A:.2f}\")\n",
        "print(f\"Variância Estratégia B: {variancia_B:.2f}\")"
      ],
      "metadata": {
        "colab": {
          "base_uri": "https://localhost:8080/"
        },
        "id": "zYnD-g2XAbTK",
        "outputId": "47caeb1a-bcaf-4381-efc7-9ba089b256ea"
      },
      "execution_count": 9,
      "outputs": [
        {
          "output_type": "stream",
          "name": "stdout",
          "text": [
            "Média Estratégia A: 71.41\n",
            "Média Estratégia B: 74.75\n",
            "Variância Estratégia A: 129.27\n",
            "Variância Estratégia B: 110.47\n"
          ]
        }
      ]
    },
    {
      "cell_type": "markdown",
      "source": [
        "# 3) Imprima os resultados da estatística do teste Z, p value e indique se rejeitaremos ou não a hipótese nula. Justifique sua resposta.\n"
      ],
      "metadata": {
        "id": "hvQAZCeZHBDc"
      }
    },
    {
      "cell_type": "code",
      "source": [
        "# Reutilizando as amostras\n",
        "# Calculando as médias\n",
        "media_A = np.mean(amostra_estrategia_A)\n",
        "media_B = np.mean(amostra_estrategia_B)\n",
        "\n",
        "# Tamanhos das amostras\n",
        "n_A = len(amostra_estrategia_A)\n",
        "n_B = len(amostra_estrategia_B)\n",
        "\n",
        "# Desvios padrão populacionais definidos no enunciado\n",
        "desvio_A = desvio_padrao_estrategia_A\n",
        "desvio_B = desvio_padrao_estrategia_B\n",
        "\n",
        "# Calculando o erro padrão da diferença das médias\n",
        "erro_padrao = np.sqrt((desvio_A*2 / n_A) + (desvio_B*2 / n_B))\n",
        "\n",
        "# Calculando a estatística do teste Z\n",
        "z_score = (media_B - media_A) / erro_padrao\n",
        "\n",
        "# Calculando o p-valor para teste unilateral (à direita, pois queremos saber se B > A)\n",
        "p_value = 1 - norm.cdf(z_score)\n",
        "\n",
        "# Resultados\n",
        "print(f\"Estatística Z: {z_score:.2f}\")\n",
        "print(f\"P-valor: {p_value:.4f}\")"
      ],
      "metadata": {
        "colab": {
          "base_uri": "https://localhost:8080/"
        },
        "id": "Q2Qfg-YTIYCV",
        "outputId": "eb88f228-a9aa-4049-cdc8-42c99bd43fe4"
      },
      "execution_count": 11,
      "outputs": [
        {
          "output_type": "stream",
          "name": "stdout",
          "text": [
            "Estatística Z: 3.56\n",
            "P-valor: 0.0002\n"
          ]
        }
      ]
    },
    {
      "cell_type": "markdown",
      "source": [
        "📌 Resultados obtidos:\n",
        "\n",
        "Estatística Z: 3.56\n",
        "\n",
        "P-valor: 0.0002\n",
        "\n",
        "🧠 Hipóteses:\n",
        "\n",
        "H₀ (Hipótese Nula): As médias das estratégias A e B são iguais (μA = μB).\n",
        "\n",
        "H₁ (Hipótese Alternativa): A média da estratégia B é maior que a da A (μB > μA).\n",
        "\n",
        "✅ Conclusão do Teste Z:\n",
        "\n",
        "Com um p-valor de 0.0002, e assumindo um nível de significância de 5% (α = 0.05):\n",
        "\n",
        "Rejeitamos a hipótese nula.\n",
        "\n",
        "📊 Justificativa:\n",
        "\n",
        "O p-valor (0.0002) está muito abaixo de 0.05.\n",
        "\n",
        "Isso indica que há uma diferença estatisticamente significativa entre as duas médias.\n",
        "\n",
        "A estratégia B apresentou uma média de notas significativamente maior que a estratégia A.\n",
        "\n",
        "A estatística Z = 3.56 mostra que essa diferença está a mais de 3 desvios padrão de distância da média sob H₀ — o que reforça a evidência contra a hipótese nula.\n",
        "\n",
        "🔎 Insight Prático:\n",
        "\n",
        "Com base nos dados simulados, podemos concluir com alto grau de confiança que a estratégia de ensino B é mais eficaz do que a estratégia A em termos de desempenho dos alunos."
      ],
      "metadata": {
        "id": "mmA80Mw3I-VD"
      }
    },
    {
      "cell_type": "markdown",
      "source": [
        "# 4) Para finalizar monte o gráfico da distribuição da estatística do nosso teste Z e explique o que pode ser observado através dele.\n"
      ],
      "metadata": {
        "id": "YhoLGJNKJJNY"
      }
    },
    {
      "cell_type": "code",
      "source": [
        "# Configurações padrão do gráfico\n",
        "fig, ax = plt.subplots(figsize=(10, 5))\n",
        "\n",
        "# Parâmetros da densidade sob H0 (para distribuição Normal Padrão)\n",
        "mu = 0\n",
        "sigma = 1\n",
        "\n",
        "# Valores de X e Y para plotar a densidade do nosso gráfico\n",
        "x = np.linspace(mu - 3*sigma, mu + 3*sigma, 100)\n",
        "y = stats.norm.pdf(x, mu, sigma) # Usando norm.pdf para distribuição normal\n",
        "\n",
        "# Calculando o limite da região crítica para um teste unilateral à direita com alpha = 0.05\n",
        "low = stats.norm.ppf(0.95, mu, sigma)\n",
        "high = np.inf\n",
        "\n",
        "# Gráfico da densidade\n",
        "ax.plot(x, y, label='Densidade de Probabilidade (H0)')\n",
        "\n",
        "# Marcação do valor observado da estatística do teste Z\n",
        "# Usando z_score que foi calculado anteriormente\n",
        "ax.vlines(x=[z_score], ymin=0, ymax=stats.norm.pdf(z_score, mu, sigma), colors='r', linestyles='dotted', label=f'Valor observado Z ({z_score:.2f})')\n",
        "\n",
        "# Preenchendo a área crítica\n",
        "# Preenche a área à direita do limite crítico\n",
        "x_fill = np.linspace(low, mu + 3*sigma, 100)\n",
        "y_fill = stats.norm.pdf(x_fill, mu, sigma)\n",
        "plt.fill_between(x_fill, y_fill, color='orange', alpha=.5, label='Área crítica (α=0.05)')\n",
        "\n",
        "\n",
        "#Plotagem padrão do gráfico\n",
        "plt.legend()\n",
        "plt.xlabel('Estatística Z')\n",
        "plt.ylabel('Densidade de Probabilidade')\n",
        "plt.title('Distribuição do Teste Z - Comparação de Estratégias')\n",
        "plt.show()"
      ],
      "metadata": {
        "colab": {
          "base_uri": "https://localhost:8080/",
          "height": 488
        },
        "id": "T8-01Kx2JNqj",
        "outputId": "e2c42d53-2b2a-4a30-f9f8-77fa1e8f5346"
      },
      "execution_count": 17,
      "outputs": [
        {
          "output_type": "display_data",
          "data": {
            "text/plain": [
              "<Figure size 1000x500 with 1 Axes>"
            ],
            "image/png": "[encoded data removed]"
          },
          "metadata": {}
        }
      ]
    },
    {
      "cell_type": "markdown",
      "source": [
        "O gráfico acima representa a distribuição normal padrão (média 0, desvio padrão 1), que é usada para interpretar o teste Z.\n",
        "\n",
        "🧠 O que podemos observar:\n",
        "\n",
        "A linha vermelha tracejada indica o valor da estatística Z calculada (Z = 3.56).\n",
        "\n",
        "A área vermelha sombreada à direita mostra a região crítica do teste para um nível de significância (geralmente 5% ou 1%).\n",
        "\n",
        "Como a estatística Z está bem à direita, muito além do valor crítico (~1.64 para 5% ou ~2.33 para 1%), isso indica que a probabilidade de obtermos esse valor por acaso, assumindo que H₀ é verdadeira, é muito baixa.\n",
        "\n",
        "✅ Conclusão visual:\n",
        "\n",
        "Estamos em uma região onde rejeitamos a hipótese nula (H₀), pois a estatística Z está muito distante do centro da distribuição e dentro da zona crítica."
      ],
      "metadata": {
        "id": "HlewCZViOhYS"
      }
    }
  ]
}